{
 "cells": [
  {
   "cell_type": "code",
   "execution_count": 10,
   "id": "16f41411-3fe2-4209-9d8f-36b5af7fefaf",
   "metadata": {},
   "outputs": [],
   "source": [
    "from consensus.PBFT_Simulator import PBFT_Simulator\n",
    "from consensus.QPBFT_Simulator import QPBFT_Simulator\n",
    "from consensus.Proposed_Simulator import Proposed_Simulator\n",
    "import time"
   ]
  },
  {
   "cell_type": "code",
   "execution_count": 11,
   "id": "827505b0",
   "metadata": {},
   "outputs": [],
   "source": [
    "consensus = PBFT_Simulator(10, 2)"
   ]
  },
  {
   "cell_type": "code",
   "execution_count": null,
   "id": "03d0fb08-929a-463c-accc-de99e583fe97",
   "metadata": {},
   "outputs": [],
   "source": [
    "start = time.time()\n",
    "for i in range(10):\n",
    "    consensus.send_request(f\"Hello world {i}\")\n",
    "end = time.time()\n",
    "delay = end-start\n",
    "print(f\"Spend time => {delay} seconds\")\n",
    "print(f\"The number of success-proof => {consensus.success_proof} times\")"
   ]
  },
  {
   "cell_type": "code",
   "execution_count": 13,
   "id": "a1c319cd",
   "metadata": {},
   "outputs": [],
   "source": [
    "del consensus"
   ]
  },
  {
   "cell_type": "code",
   "execution_count": 14,
   "id": "b7595868",
   "metadata": {},
   "outputs": [],
   "source": [
    "consensus = QPBFT_Simulator(6, 4, 2)"
   ]
  },
  {
   "cell_type": "code",
   "execution_count": null,
   "id": "6f8e0b64-05c0-4fc9-a383-779f340e244e",
   "metadata": {},
   "outputs": [],
   "source": [
    "start = time.time()\n",
    "for i in range(10):\n",
    "    consensus.send_request(f\"Hello world {i}\")\n",
    "end = time.time()\n",
    "spend = end-start\n",
    "print(f\"Spend time => {end - start} seconds\")\n",
    "print(f\"The number of success-proof => {consensus.success_proof} times\")"
   ]
  },
  {
   "cell_type": "code",
   "execution_count": 16,
   "id": "4c0c4867",
   "metadata": {},
   "outputs": [],
   "source": [
    "del consensus"
   ]
  },
  {
   "cell_type": "code",
   "execution_count": null,
   "id": "84e06a6d-0356-4ca4-9095-d3e5c7ea8ec4",
   "metadata": {},
   "outputs": [],
   "source": [
    "consensus = Proposed_Simulator(6, 4, 5, 3)\n",
    "start = time.time()\n",
    "for i in range(10):\n",
    "    consensus.send_request(f\"Hello world {i}\")\n",
    "end = time.time()\n",
    "print(f\"Spend time => {end - start} seconds\")\n",
    "print(f\"The number of success-proof => {consensus.success_proof} times\")"
   ]
  },
  {
   "cell_type": "code",
   "execution_count": 18,
   "id": "4b50bf29",
   "metadata": {},
   "outputs": [],
   "source": [
    "del consensus"
   ]
  }
 ],
 "metadata": {
  "kernelspec": {
   "display_name": ".venv",
   "language": "python",
   "name": "python3"
  },
  "language_info": {
   "codemirror_mode": {
    "name": "ipython",
    "version": 3
   },
   "file_extension": ".py",
   "mimetype": "text/x-python",
   "name": "python",
   "nbconvert_exporter": "python",
   "pygments_lexer": "ipython3",
   "version": "3.12.4"
  }
 },
 "nbformat": 4,
 "nbformat_minor": 5
}
