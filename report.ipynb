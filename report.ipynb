{
 "cells": [
  {
   "cell_type": "code",
   "execution_count": 1,
   "id": "16f41411-3fe2-4209-9d8f-36b5af7fefaf",
   "metadata": {},
   "outputs": [],
   "source": [
    "from consensus.PBFT_Simulator import PBFT_Simulator\n",
    "from consensus.QPBFT_Simulator import QPBFT_Simulator\n",
    "from consensus.Proposed_Simulator import Proposed_Simulator\n",
    "import time"
   ]
  },
  {
   "cell_type": "code",
   "execution_count": 2,
   "id": "03d0fb08-929a-463c-accc-de99e583fe97",
   "metadata": {},
   "outputs": [
    {
     "name": "stdout",
     "output_type": "stream",
     "text": [
      "Request Phase\n",
      "IdUser => 0, Faulty => False, Send_messages => ''                                 , Receive_messages => []\n",
      "IdUser => 1, Faulty => False, Send_messages => ''                                 , Receive_messages => []\n",
      "IdUser => 2, Faulty => False, Send_messages => ''                                 , Receive_messages => []\n",
      "IdUser => 3, Faulty => True , Send_messages => ''                                 , Receive_messages => []\n",
      "IdUser => 4, Faulty => False, Send_messages => ''                                 , Receive_messages => []\n",
      "IdUser => 5, Faulty => False, Send_messages => ''                                 , Receive_messages => []\n",
      "IdUser => 6, Faulty => False, Send_messages => ''                                 , Receive_messages => [('Hello world', 'request', -1)]\n",
      "IdUser => 7, Faulty => False, Send_messages => ''                                 , Receive_messages => []\n",
      "IdUser => 8, Faulty => False, Send_messages => ''                                 , Receive_messages => []\n",
      "IdUser => 9, Faulty => True , Send_messages => ''                                 , Receive_messages => []\n",
      "------------------------------\n",
      "Pre-Prepare Phase\n",
      "IdUser => 0, Faulty => False, Send_messages => ''                                 , Receive_messages => [('Hello world', 'pre_preprare', 6)]\n",
      "IdUser => 1, Faulty => False, Send_messages => ''                                 , Receive_messages => [('Hello world', 'pre_preprare', 6)]\n",
      "IdUser => 2, Faulty => False, Send_messages => ''                                 , Receive_messages => [('Hello world', 'pre_preprare', 6)]\n",
      "IdUser => 3, Faulty => True , Send_messages => ''                                 , Receive_messages => [('Hello world', 'pre_preprare', 6)]\n",
      "IdUser => 4, Faulty => False, Send_messages => ''                                 , Receive_messages => [('Hello world', 'pre_preprare', 6)]\n",
      "IdUser => 5, Faulty => False, Send_messages => ''                                 , Receive_messages => [('Hello world', 'pre_preprare', 6)]\n",
      "IdUser => 6, Faulty => False, Send_messages => ('Hello world', 'pre_preprare', 6) , Receive_messages => [('Hello world', 'request', -1)]\n",
      "IdUser => 7, Faulty => False, Send_messages => ''                                 , Receive_messages => [('Hello world', 'pre_preprare', 6)]\n",
      "IdUser => 8, Faulty => False, Send_messages => ''                                 , Receive_messages => [('Hello world', 'pre_preprare', 6)]\n",
      "IdUser => 9, Faulty => True , Send_messages => ''                                 , Receive_messages => [('Hello world', 'pre_preprare', 6)]\n",
      "------------------------------\n",
      "Prepare Phase\n",
      "IdUser => 0, Faulty => False, Send_messages => ('Hello world', 'prepare', 0)      , Receive_messages => [('Hello world', 'pre_preprare', 6), ('Hello world', 'prepare', 1), ('Hello world', 'prepare', 2), ('Hello world', 'prepare', 4), ('Hello world', 'prepare', 5), ('Hello world', 'prepare', 7), ('Hello world', 'prepare', 8)]\n",
      "IdUser => 1, Faulty => False, Send_messages => ('Hello world', 'prepare', 1)      , Receive_messages => [('Hello world', 'pre_preprare', 6), ('Hello world', 'prepare', 0), ('Hello world', 'prepare', 2), ('Hello world', 'prepare', 4), ('Hello world', 'prepare', 5), ('Hello world', 'prepare', 7), ('Hello world', 'prepare', 8)]\n",
      "IdUser => 2, Faulty => False, Send_messages => ('Hello world', 'prepare', 2)      , Receive_messages => [('Hello world', 'pre_preprare', 6), ('Hello world', 'prepare', 0), ('Hello world', 'prepare', 1), ('Hello world', 'prepare', 4), ('Hello world', 'prepare', 5), ('Hello world', 'prepare', 7), ('Hello world', 'prepare', 8)]\n",
      "IdUser => 3, Faulty => True , Send_messages => ''                                 , Receive_messages => [('Hello world', 'pre_preprare', 6), ('Hello world', 'prepare', 0), ('Hello world', 'prepare', 1), ('Hello world', 'prepare', 2), ('Hello world', 'prepare', 4), ('Hello world', 'prepare', 5), ('Hello world', 'prepare', 7), ('Hello world', 'prepare', 8)]\n",
      "IdUser => 4, Faulty => False, Send_messages => ('Hello world', 'prepare', 4)      , Receive_messages => [('Hello world', 'pre_preprare', 6), ('Hello world', 'prepare', 0), ('Hello world', 'prepare', 1), ('Hello world', 'prepare', 2), ('Hello world', 'prepare', 5), ('Hello world', 'prepare', 7), ('Hello world', 'prepare', 8)]\n",
      "IdUser => 5, Faulty => False, Send_messages => ('Hello world', 'prepare', 5)      , Receive_messages => [('Hello world', 'pre_preprare', 6), ('Hello world', 'prepare', 0), ('Hello world', 'prepare', 1), ('Hello world', 'prepare', 2), ('Hello world', 'prepare', 4), ('Hello world', 'prepare', 7), ('Hello world', 'prepare', 8)]\n",
      "IdUser => 6, Faulty => False, Send_messages => ('Hello world', 'pre_preprare', 6) , Receive_messages => [('Hello world', 'request', -1), ('Hello world', 'prepare', 0), ('Hello world', 'prepare', 1), ('Hello world', 'prepare', 2), ('Hello world', 'prepare', 4), ('Hello world', 'prepare', 5), ('Hello world', 'prepare', 7), ('Hello world', 'prepare', 8)]\n",
      "IdUser => 7, Faulty => False, Send_messages => ('Hello world', 'prepare', 7)      , Receive_messages => [('Hello world', 'pre_preprare', 6), ('Hello world', 'prepare', 0), ('Hello world', 'prepare', 1), ('Hello world', 'prepare', 2), ('Hello world', 'prepare', 4), ('Hello world', 'prepare', 5), ('Hello world', 'prepare', 8)]\n",
      "IdUser => 8, Faulty => False, Send_messages => ('Hello world', 'prepare', 8)      , Receive_messages => [('Hello world', 'pre_preprare', 6), ('Hello world', 'prepare', 0), ('Hello world', 'prepare', 1), ('Hello world', 'prepare', 2), ('Hello world', 'prepare', 4), ('Hello world', 'prepare', 5), ('Hello world', 'prepare', 7)]\n",
      "IdUser => 9, Faulty => True , Send_messages => ''                                 , Receive_messages => [('Hello world', 'pre_preprare', 6), ('Hello world', 'prepare', 0), ('Hello world', 'prepare', 1), ('Hello world', 'prepare', 2), ('Hello world', 'prepare', 4), ('Hello world', 'prepare', 5), ('Hello world', 'prepare', 7), ('Hello world', 'prepare', 8)]\n",
      "------------------------------\n",
      "Commit Phase\n",
      "IdUser => 0, Faulty => False, Send_messages => ('Hello world', 'commit', 0)       , Receive_messages => [('Hello world', 'pre_preprare', 6), ('Hello world', 'prepare', 1), ('Hello world', 'prepare', 2), ('Hello world', 'prepare', 4), ('Hello world', 'prepare', 5), ('Hello world', 'prepare', 7), ('Hello world', 'prepare', 8), ('Hello world', 'commit', 1), ('Hello world', 'commit', 2), ('Hello world', 'commit', 4), ('Hello world', 'commit', 5), ('Hello world', 'commit', 6), ('Hello world', 'commit', 7), ('Hello world', 'commit', 8)]\n",
      "IdUser => 1, Faulty => False, Send_messages => ('Hello world', 'commit', 1)       , Receive_messages => [('Hello world', 'pre_preprare', 6), ('Hello world', 'prepare', 0), ('Hello world', 'prepare', 2), ('Hello world', 'prepare', 4), ('Hello world', 'prepare', 5), ('Hello world', 'prepare', 7), ('Hello world', 'prepare', 8), ('Hello world', 'commit', 0), ('Hello world', 'commit', 2), ('Hello world', 'commit', 4), ('Hello world', 'commit', 5), ('Hello world', 'commit', 6), ('Hello world', 'commit', 7), ('Hello world', 'commit', 8)]\n",
      "IdUser => 2, Faulty => False, Send_messages => ('Hello world', 'commit', 2)       , Receive_messages => [('Hello world', 'pre_preprare', 6), ('Hello world', 'prepare', 0), ('Hello world', 'prepare', 1), ('Hello world', 'prepare', 4), ('Hello world', 'prepare', 5), ('Hello world', 'prepare', 7), ('Hello world', 'prepare', 8), ('Hello world', 'commit', 0), ('Hello world', 'commit', 1), ('Hello world', 'commit', 4), ('Hello world', 'commit', 5), ('Hello world', 'commit', 6), ('Hello world', 'commit', 7), ('Hello world', 'commit', 8)]\n",
      "IdUser => 3, Faulty => True , Send_messages => ''                                 , Receive_messages => [('Hello world', 'pre_preprare', 6), ('Hello world', 'prepare', 0), ('Hello world', 'prepare', 1), ('Hello world', 'prepare', 2), ('Hello world', 'prepare', 4), ('Hello world', 'prepare', 5), ('Hello world', 'prepare', 7), ('Hello world', 'prepare', 8), ('Hello world', 'commit', 0), ('Hello world', 'commit', 1), ('Hello world', 'commit', 2), ('Hello world', 'commit', 4), ('Hello world', 'commit', 5), ('Hello world', 'commit', 6), ('Hello world', 'commit', 7), ('Hello world', 'commit', 8)]\n",
      "IdUser => 4, Faulty => False, Send_messages => ('Hello world', 'commit', 4)       , Receive_messages => [('Hello world', 'pre_preprare', 6), ('Hello world', 'prepare', 0), ('Hello world', 'prepare', 1), ('Hello world', 'prepare', 2), ('Hello world', 'prepare', 5), ('Hello world', 'prepare', 7), ('Hello world', 'prepare', 8), ('Hello world', 'commit', 0), ('Hello world', 'commit', 1), ('Hello world', 'commit', 2), ('Hello world', 'commit', 5), ('Hello world', 'commit', 6), ('Hello world', 'commit', 7), ('Hello world', 'commit', 8)]\n",
      "IdUser => 5, Faulty => False, Send_messages => ('Hello world', 'commit', 5)       , Receive_messages => [('Hello world', 'pre_preprare', 6), ('Hello world', 'prepare', 0), ('Hello world', 'prepare', 1), ('Hello world', 'prepare', 2), ('Hello world', 'prepare', 4), ('Hello world', 'prepare', 7), ('Hello world', 'prepare', 8), ('Hello world', 'commit', 0), ('Hello world', 'commit', 1), ('Hello world', 'commit', 2), ('Hello world', 'commit', 4), ('Hello world', 'commit', 6), ('Hello world', 'commit', 7), ('Hello world', 'commit', 8)]\n",
      "IdUser => 6, Faulty => False, Send_messages => ('Hello world', 'commit', 6)       , Receive_messages => [('Hello world', 'request', -1), ('Hello world', 'prepare', 0), ('Hello world', 'prepare', 1), ('Hello world', 'prepare', 2), ('Hello world', 'prepare', 4), ('Hello world', 'prepare', 5), ('Hello world', 'prepare', 7), ('Hello world', 'prepare', 8), ('Hello world', 'commit', 0), ('Hello world', 'commit', 1), ('Hello world', 'commit', 2), ('Hello world', 'commit', 4), ('Hello world', 'commit', 5), ('Hello world', 'commit', 7), ('Hello world', 'commit', 8)]\n",
      "IdUser => 7, Faulty => False, Send_messages => ('Hello world', 'commit', 7)       , Receive_messages => [('Hello world', 'pre_preprare', 6), ('Hello world', 'prepare', 0), ('Hello world', 'prepare', 1), ('Hello world', 'prepare', 2), ('Hello world', 'prepare', 4), ('Hello world', 'prepare', 5), ('Hello world', 'prepare', 8), ('Hello world', 'commit', 0), ('Hello world', 'commit', 1), ('Hello world', 'commit', 2), ('Hello world', 'commit', 4), ('Hello world', 'commit', 5), ('Hello world', 'commit', 6), ('Hello world', 'commit', 8)]\n",
      "IdUser => 8, Faulty => False, Send_messages => ('Hello world', 'commit', 8)       , Receive_messages => [('Hello world', 'pre_preprare', 6), ('Hello world', 'prepare', 0), ('Hello world', 'prepare', 1), ('Hello world', 'prepare', 2), ('Hello world', 'prepare', 4), ('Hello world', 'prepare', 5), ('Hello world', 'prepare', 7), ('Hello world', 'commit', 0), ('Hello world', 'commit', 1), ('Hello world', 'commit', 2), ('Hello world', 'commit', 4), ('Hello world', 'commit', 5), ('Hello world', 'commit', 6), ('Hello world', 'commit', 7)]\n",
      "IdUser => 9, Faulty => True , Send_messages => ''                                 , Receive_messages => [('Hello world', 'pre_preprare', 6), ('Hello world', 'prepare', 0), ('Hello world', 'prepare', 1), ('Hello world', 'prepare', 2), ('Hello world', 'prepare', 4), ('Hello world', 'prepare', 5), ('Hello world', 'prepare', 7), ('Hello world', 'prepare', 8), ('Hello world', 'commit', 0), ('Hello world', 'commit', 1), ('Hello world', 'commit', 2), ('Hello world', 'commit', 4), ('Hello world', 'commit', 5), ('Hello world', 'commit', 6), ('Hello world', 'commit', 7), ('Hello world', 'commit', 8)]\n",
      "------------------------------\n",
      "Reply Phase\n",
      "Successfully in consensus\n",
      "Spend time => 0.0009996891021728516 s\n"
     ]
    }
   ],
   "source": [
    "consensus = PBFT_Simulator(10, 2)\n",
    "start = time.time()\n",
    "consensus.send_request(\"Hello world\")\n",
    "end = time.time()\n",
    "print(f\"Spend time => {end - start} s\")"
   ]
  },
  {
   "cell_type": "code",
   "execution_count": 3,
   "id": "a1c319cd",
   "metadata": {},
   "outputs": [],
   "source": [
    "del consensus"
   ]
  },
  {
   "cell_type": "code",
   "execution_count": 4,
   "id": "6f8e0b64-05c0-4fc9-a383-779f340e244e",
   "metadata": {},
   "outputs": [
    {
     "name": "stdout",
     "output_type": "stream",
     "text": [
      "Request Phase\n",
      "IdUser => 0, Role =>  Manager, Faulty =>  False, Send_messages_log => ''                                 , Receive_messages_log => [('Hello world', 'request', -1)]\n",
      "IdUser => 1, Role =>  Manager, Faulty =>  False, Send_messages_log => ''                                 , Receive_messages_log => []\n",
      "IdUser => 2, Role =>  Manager, Faulty =>  False, Send_messages_log => ''                                 , Receive_messages_log => []\n",
      "IdUser => 3, Role =>  Manager, Faulty =>  False, Send_messages_log => ''                                 , Receive_messages_log => []\n",
      "IdUser => 4, Role =>  Manager, Faulty =>  False, Send_messages_log => ''                                 , Receive_messages_log => []\n",
      "IdUser => 5, Role =>  Manager, Faulty =>   True, Send_messages_log => ''                                 , Receive_messages_log => []\n",
      "IdUser => 6, Role =>    Voter, Faulty =>   True, Send_messages_log => ''                                 , Receive_messages_log => []\n",
      "IdUser => 7, Role =>    Voter, Faulty =>  False, Send_messages_log => ''                                 , Receive_messages_log => []\n",
      "IdUser => 8, Role =>    Voter, Faulty =>  False, Send_messages_log => ''                                 , Receive_messages_log => []\n",
      "IdUser => 9, Role =>    Voter, Faulty =>  False, Send_messages_log => ''                                 , Receive_messages_log => []\n",
      "------------------------------\n",
      "Prepare Phase\n",
      "IdUser => 0, Role =>  Manager, Faulty =>  False, Send_messages_log => ('Hello world', 'prepare', 0)      , Receive_messages_log => [('Hello world', 'request', -1)]\n",
      "IdUser => 1, Role =>  Manager, Faulty =>  False, Send_messages_log => ''                                 , Receive_messages_log => []\n",
      "IdUser => 2, Role =>  Manager, Faulty =>  False, Send_messages_log => ''                                 , Receive_messages_log => []\n",
      "IdUser => 3, Role =>  Manager, Faulty =>  False, Send_messages_log => ''                                 , Receive_messages_log => []\n",
      "IdUser => 4, Role =>  Manager, Faulty =>  False, Send_messages_log => ''                                 , Receive_messages_log => []\n",
      "IdUser => 5, Role =>  Manager, Faulty =>   True, Send_messages_log => ''                                 , Receive_messages_log => []\n",
      "IdUser => 6, Role =>    Voter, Faulty =>   True, Send_messages_log => ''                                 , Receive_messages_log => [('Hello world', 'prepare', 0)]\n",
      "IdUser => 7, Role =>    Voter, Faulty =>  False, Send_messages_log => ''                                 , Receive_messages_log => [('Hello world', 'prepare', 0)]\n",
      "IdUser => 8, Role =>    Voter, Faulty =>  False, Send_messages_log => ''                                 , Receive_messages_log => [('Hello world', 'prepare', 0)]\n",
      "IdUser => 9, Role =>    Voter, Faulty =>  False, Send_messages_log => ''                                 , Receive_messages_log => [('Hello world', 'prepare', 0)]\n",
      "------------------------------\n",
      "Commit Phase\n",
      "IdUser => 0, Role =>  Manager, Faulty =>  False, Send_messages_log => ('Hello world', 'prepare', 0)      , Receive_messages_log => [('Hello world', 'request', -1), ('Hello world', 'confirm', 7, 1), ('Hello world', 'confirm', 8, 0), ('Hello world', 'confirm', 9, 1)]\n",
      "IdUser => 1, Role =>  Manager, Faulty =>  False, Send_messages_log => ''                                 , Receive_messages_log => []\n",
      "IdUser => 2, Role =>  Manager, Faulty =>  False, Send_messages_log => ''                                 , Receive_messages_log => []\n",
      "IdUser => 3, Role =>  Manager, Faulty =>  False, Send_messages_log => ''                                 , Receive_messages_log => []\n",
      "IdUser => 4, Role =>  Manager, Faulty =>  False, Send_messages_log => ''                                 , Receive_messages_log => []\n",
      "IdUser => 5, Role =>  Manager, Faulty =>   True, Send_messages_log => ''                                 , Receive_messages_log => []\n",
      "IdUser => 6, Role =>    Voter, Faulty =>   True, Send_messages_log => ''                                 , Receive_messages_log => [('Hello world', 'prepare', 0)]\n",
      "IdUser => 7, Role =>    Voter, Faulty =>  False, Send_messages_log => ('Hello world', 'confirm', 7, 1)   , Receive_messages_log => [('Hello world', 'prepare', 0)]\n",
      "IdUser => 8, Role =>    Voter, Faulty =>  False, Send_messages_log => ('Hello world', 'confirm', 8, 0)   , Receive_messages_log => [('Hello world', 'prepare', 0)]\n",
      "IdUser => 9, Role =>    Voter, Faulty =>  False, Send_messages_log => ('Hello world', 'confirm', 9, 1)   , Receive_messages_log => [('Hello world', 'prepare', 0)]\n",
      "------------------------------\n",
      "Produce Block Phase\n",
      "Fail\n",
      "Spend time => 0.002001523971557617 s\n"
     ]
    }
   ],
   "source": [
    "consensus = QPBFT_Simulator(6, 4, 2)\n",
    "start = time.time()\n",
    "consensus.send_request(\"Hello world\")\n",
    "end = time.time()\n",
    "print(f\"Spend time => {end - start} s\")"
   ]
  },
  {
   "cell_type": "code",
   "execution_count": 5,
   "id": "4c0c4867",
   "metadata": {},
   "outputs": [],
   "source": [
    "del consensus"
   ]
  },
  {
   "cell_type": "code",
   "execution_count": 6,
   "id": "84e06a6d-0356-4ca4-9095-d3e5c7ea8ec4",
   "metadata": {},
   "outputs": [
    {
     "name": "stdout",
     "output_type": "stream",
     "text": [
      "Request Phase\n",
      "IdUser => 5, Role =>  Master, Send_messages_log => ''                                 , Receive_messages_log => [('Hello world', 'request', -1)]\n",
      "IdUser => 6, Role =>   Slave, Send_messages_log => ''                                 , Receive_messages_log => []\n",
      "IdUser => 1, Role =>  Master, Send_messages_log => ''                                 , Receive_messages_log => []\n",
      "IdUser => 7, Role =>   Slave, Send_messages_log => ''                                 , Receive_messages_log => []\n",
      "IdUser => 8, Role =>   Slave, Send_messages_log => ''                                 , Receive_messages_log => []\n",
      "------------------------------\n",
      "Prepare Internal Phase\n",
      "IdUser => 5, Role =>  Master, Send_messages_log => ('Hello world', 'prepare', 5)      , Receive_messages_log => [('Hello world', 'request', -1)]\n",
      "IdUser => 6, Role =>   Slave, Send_messages_log => ''                                 , Receive_messages_log => [('Hello world', 'prepare', 5)]\n",
      "IdUser => 1, Role =>  Master, Send_messages_log => ''                                 , Receive_messages_log => [('Hello world', 'prepare', 5)]\n",
      "IdUser => 7, Role =>   Slave, Send_messages_log => ''                                 , Receive_messages_log => [('Hello world', 'prepare', 5)]\n",
      "IdUser => 8, Role =>   Slave, Send_messages_log => ''                                 , Receive_messages_log => [('Hello world', 'prepare', 5)]\n",
      "------------------------------\n",
      "Commit Internal Phase\n",
      "IdUser => 5, Role =>  Master, Send_messages_log => ('Hello world', 'prepare', 5)      , Receive_messages_log => [('Hello world', 'request', -1), ('Hello world', 'commit', 6, 1), ('Hello world', 'commit', 1, 0), ('Hello world', 'commit', 7, 0), ('Hello world', 'commit', 8, 0)]\n",
      "IdUser => 6, Role =>   Slave, Send_messages_log => ('Hello world', 'commit', 6, 1)    , Receive_messages_log => [('Hello world', 'prepare', 5)]\n",
      "IdUser => 1, Role =>  Master, Send_messages_log => ('Hello world', 'commit', 1, 0)    , Receive_messages_log => [('Hello world', 'prepare', 5)]\n",
      "IdUser => 7, Role =>   Slave, Send_messages_log => ('Hello world', 'commit', 7, 0)    , Receive_messages_log => [('Hello world', 'prepare', 5)]\n",
      "IdUser => 8, Role =>   Slave, Send_messages_log => ('Hello world', 'commit', 8, 0)    , Receive_messages_log => [('Hello world', 'prepare', 5)]\n",
      "------------------------------\n",
      "Produce Block Phase\n",
      "Fail\n",
      "Spend time => 0.0 s\n"
     ]
    }
   ],
   "source": [
    "consensus = Proposed_Simulator(6, 4, 5, 2)\n",
    "start = time.time()\n",
    "consensus.send_request(\"Hello world\")\n",
    "end = time.time()\n",
    "print(f\"Spend time => {end - start} s\")"
   ]
  },
  {
   "cell_type": "code",
   "execution_count": 7,
   "id": "4b50bf29",
   "metadata": {},
   "outputs": [],
   "source": [
    "del consensus"
   ]
  }
 ],
 "metadata": {
  "kernelspec": {
   "display_name": ".venv",
   "language": "python",
   "name": "python3"
  },
  "language_info": {
   "codemirror_mode": {
    "name": "ipython",
    "version": 3
   },
   "file_extension": ".py",
   "mimetype": "text/x-python",
   "name": "python",
   "nbconvert_exporter": "python",
   "pygments_lexer": "ipython3",
   "version": "3.12.4"
  }
 },
 "nbformat": 4,
 "nbformat_minor": 5
}
